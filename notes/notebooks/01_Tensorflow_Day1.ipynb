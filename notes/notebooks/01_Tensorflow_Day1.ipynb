{
 "cells": [
  {
   "cell_type": "markdown",
   "metadata": {},
   "source": [
    "# Tensoflow Day 1\n",
    "_Lecture by Alex Lew_"
   ]
  },
  {
   "cell_type": "markdown",
   "metadata": {},
   "source": [
    "## What is Tensorflow?\n",
    "\n",
    "#### Goal: Code to make predictions!\n",
    "We could write python code to calculate the probability that an image is an animal. \n",
    "\n",
    "But, this would be slow. Because of the way Python stores data in lists as pointers to objects, Python is not ideal. Python is dynamically typed. This is a comprimise Python makes to make it easy to type and read!\n",
    "\n",
    "The `numpy` package is a solution to this problem.\n",
    "It packs numbers together tightly in an array. It does this with `C`.\n",
    "\n",
    "Linear regression takes a vector of coefficients and a vector of features (pixel intensities) and calculates their dot product. This is implemented as `np.dot(image, coeffs)`. \n",
    "\n",
    "We still need to learn the bias and coefficients!\n",
    "\n",
    "Tensorflow does this!"
   ]
  },
  {
   "cell_type": "markdown",
   "metadata": {},
   "source": [
    "#### Tensorflow in action. \n",
    "__pseudocode__\n",
    "```python\n",
    "# The tf formula:\n",
    "import tensorflow as tf\n",
    "bias = tf.Variable(0.0)\n",
    "coeffs = tf.Variable(tf.zeros(784))\n",
    "image = tf.placeholder(tf.float32)\n",
    "score = tf.matmul(coeffs, image) + bias # matrix multiplication\n",
    "prob = 1.0 / (tf.exp(-score) + 1.0)\n",
    "```"
   ]
  },
  {
   "cell_type": "code",
   "execution_count": 63,
   "metadata": {},
   "outputs": [],
   "source": [
    "# Load the tensorflow library.\n",
    "import tensorflow as tf"
   ]
  },
  {
   "cell_type": "code",
   "execution_count": 64,
   "metadata": {},
   "outputs": [],
   "source": [
    "# Plot figures inline.\n",
    "%matplotlib inline\n",
    "import matplotlib.pyplot as plt"
   ]
  },
  {
   "cell_type": "code",
   "execution_count": 65,
   "metadata": {},
   "outputs": [
    {
     "data": {
      "text/plain": [
       "<tensorflow.python.framework.ops.Graph at 0x7fcd5cc1c390>"
      ]
     },
     "execution_count": 65,
     "metadata": {},
     "output_type": "execute_result"
    }
   ],
   "source": [
    "g = tf.get_default_graph()\n",
    "g"
   ]
  },
  {
   "cell_type": "code",
   "execution_count": 70,
   "metadata": {},
   "outputs": [
    {
     "data": {
      "text/plain": [
       "[<tf.Operation 'const_tensor' type=Const>,\n",
       " <tf.Operation 'Const' type=Const>,\n",
       " <tf.Operation 'const_tensor_1' type=Const>,\n",
       " <tf.Operation 'Const_1' type=Const>,\n",
       " <tf.Operation 'const_tensor_2' type=Const>,\n",
       " <tf.Operation 'Const_2' type=Const>,\n",
       " <tf.Operation 'const_tensor_3' type=Const>,\n",
       " <tf.Operation 'Const_3' type=Const>]"
      ]
     },
     "execution_count": 70,
     "metadata": {},
     "output_type": "execute_result"
    }
   ],
   "source": [
    "tf.constant(3.14, name = \"const_tensor\")\n",
    "another_const_tensor = tf.constant(1.414)\n",
    "g.get_operations()"
   ]
  },
  {
   "cell_type": "code",
   "execution_count": 77,
   "metadata": {},
   "outputs": [],
   "source": [
    "# Reset the graph.\n",
    "tf.reset_default_graph()\n",
    "g = tf.get_default_graph()"
   ]
  },
  {
   "cell_type": "code",
   "execution_count": 78,
   "metadata": {},
   "outputs": [
    {
     "data": {
      "text/plain": [
       "[]"
      ]
     },
     "execution_count": 78,
     "metadata": {},
     "output_type": "execute_result"
    }
   ],
   "source": [
    "g.get_operations()"
   ]
  },
  {
   "cell_type": "code",
   "execution_count": 98,
   "metadata": {},
   "outputs": [
    {
     "name": "stderr",
     "output_type": "stream",
     "text": [
      "\n",
      "  0%|          | 0/10 [00:00<?, ?it/s]\u001b[A\n",
      "100%|██████████| 10/10 [00:00<00:00, 2588.76it/s]\u001b[A"
     ]
    },
    {
     "name": "stdout",
     "output_type": "stream",
     "text": [
      "0\n",
      "1\n",
      "2\n",
      "3\n",
      "4\n",
      "5\n",
      "6\n",
      "7\n",
      "8\n",
      "9\n"
     ]
    }
   ],
   "source": [
    "# constant ascent method \n",
    "import tqdm\n",
    "for iter in tqdm.trange(10):\n",
    "    print(iter)\n",
    "    "
   ]
  },
  {
   "cell_type": "code",
   "execution_count": 105,
   "metadata": {},
   "outputs": [
    {
     "name": "stderr",
     "output_type": "stream",
     "text": [
      "\n",
      "\n",
      "\n",
      "\n",
      "0it [00:00, ?it/s]\u001b[A\u001b[A\u001b[A\u001b[A"
     ]
    }
   ],
   "source": []
  },
  {
   "cell_type": "code",
   "execution_count": 106,
   "metadata": {},
   "outputs": [
    {
     "data": {
      "text/plain": [
       "[]"
      ]
     },
     "execution_count": 106,
     "metadata": {},
     "output_type": "execute_result"
    }
   ],
   "source": []
  },
  {
   "cell_type": "code",
   "execution_count": null,
   "metadata": {},
   "outputs": [],
   "source": []
  }
 ],
 "metadata": {
  "kernelspec": {
   "display_name": "DukeMLSS3",
   "language": "python",
   "name": "dukemlss3"
  },
  "language_info": {
   "codemirror_mode": {
    "name": "ipython",
    "version": 3
   },
   "file_extension": ".py",
   "mimetype": "text/x-python",
   "name": "python",
   "nbconvert_exporter": "python",
   "pygments_lexer": "ipython3",
   "version": "3.6.7"
  }
 },
 "nbformat": 4,
 "nbformat_minor": 2
}
